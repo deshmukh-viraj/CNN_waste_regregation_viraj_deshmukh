{
 "cells": [
  {
   "cell_type": "markdown",
   "metadata": {
    "id": "lf5lYawIw8tE"
   },
   "source": [
    "# **Waste Material Segregation for Improving Waste Management**"
   ]
  },
  {
   "cell_type": "markdown",
   "metadata": {
    "id": "NY1InIbkw80B"
   },
   "source": [
    "## **Objective**\n",
    "\n",
    "The objective of this project is to implement an effective waste material segregation system using convolutional neural networks (CNNs) that categorises waste into distinct groups. This process enhances recycling efficiency, minimises environmental pollution, and promotes sustainable waste management practices.\n",
    "\n",
    "The key goals are:\n",
    "\n",
    "* Accurately classify waste materials into categories like cardboard, glass, paper, and plastic.\n",
    "* Improve waste segregation efficiency to support recycling and reduce landfill waste.\n",
    "* Understand the properties of different waste materials to optimise sorting methods for sustainability."
   ]
  },
  {
   "cell_type": "markdown",
   "metadata": {
    "id": "JZGTCfyUxalZ"
   },
   "source": [
    "## **Data Understanding**\n",
    "\n",
    "The Dataset consists of images of some common waste materials.\n",
    "\n",
    "1. Food Waste\n",
    "2. Metal\n",
    "3. Paper\n",
    "4. Plastic\n",
    "5. Other\n",
    "6. Cardboard\n",
    "7. Glass\n"
   ]
  },
  {
   "cell_type": "markdown",
   "metadata": {
    "id": "eZJtmMnzQjAr"
   },
   "source": [
    "**Data Description**\n",
    "\n",
    "* The dataset consists of multiple folders, each representing a specific class, such as `Cardboard`, `Food_Waste`, and `Metal`.\n",
    "* Within each folder, there are images of objects that belong to that category.\n",
    "* However, these items are not further subcategorised. <br> For instance, the `Food_Waste` folder may contain images of items like coffee grounds, teabags, and fruit peels, without explicitly stating that they are actually coffee grounds or teabags."
   ]
  },
  {
   "cell_type": "markdown",
   "metadata": {
    "id": "UBFt43WDzWSJ"
   },
   "source": [
    "## **1. Load the data**"
   ]
  },
  {
   "cell_type": "markdown",
   "metadata": {
    "id": "Dfy0rjJ1yzFl"
   },
   "source": [
    "Load and unzip the dataset zip file."
   ]
  },
  {
   "cell_type": "markdown",
   "metadata": {
    "id": "N35LLuWXzUQH"
   },
   "source": [
    "**Import Necessary Libraries**"
   ]
  },
  {
   "cell_type": "code",
   "execution_count": 27,
   "metadata": {
    "id": "DmZo7m1-J_Ou"
   },
   "outputs": [],
   "source": [
    "# Recommended versions:\n",
    "\n",
    "# numpy version: 1.26.4\n",
    "# pandas version: 2.2.2\n",
    "# seaborn version: 0.13.2\n",
    "# matplotlib version: 3.10.0\n",
    "# PIL version: 11.1.0\n",
    "# tensorflow version: 2.18.0\n",
    "# keras version: 3.8.0\n",
    "# sklearn version: 1.6.1"
   ]
  },
  {
   "cell_type": "code",
   "execution_count": 28,
   "metadata": {
    "id": "dzM50pygphUe"
   },
   "outputs": [],
   "source": [
    "# Import essential libraries\n",
    "import pandas as pd\n",
    "import numpy as np\n",
    "import seaborn as sns\n",
    "import matplotlib.pyplot as plt\n",
    "import sklearn\n",
    "import tensorflow as tf\n",
    "import keras\n",
    "from PIL import Image\n",
    "import os\n"
   ]
  },
  {
   "cell_type": "markdown",
   "metadata": {
    "id": "TNAzJi1c9WAX"
   },
   "source": [
    "Load the dataset."
   ]
  },
  {
   "cell_type": "code",
   "execution_count": 29,
   "metadata": {
    "id": "TM1qn2DKtjR6"
   },
   "outputs": [
    {
     "name": "stdout",
     "output_type": "stream",
     "text": [
      "Classes: ['Cardboard', 'Food_Waste', 'Glass', 'Metal', 'Other', 'Paper', 'Plastic']\n"
     ]
    }
   ],
   "source": [
    "# Load and unzip the dataset\n",
    "data_dir = \"data/data\"\n",
    "\n",
    "import os\n",
    "print(\"Classes:\", os.listdir(data_dir))\n",
    "\n"
   ]
  },
  {
   "cell_type": "markdown",
   "metadata": {
    "id": "rDp_EWxVOhUu"
   },
   "source": [
    "## **2. Data Preparation** <font color=red> [25 marks] </font><br>\n"
   ]
  },
  {
   "cell_type": "markdown",
   "metadata": {
    "id": "S7Ac8VxvjWnw"
   },
   "source": [
    "### **2.1 Load and Preprocess Images** <font color=red> [8 marks] </font><br>"
   ]
  },
  {
   "cell_type": "markdown",
   "metadata": {
    "id": "ghmtINrMXDMy"
   },
   "source": [
    "Let us create a function to load the images first. We can then directly use this function while loading images of the different categories to load and crop them in a single step."
   ]
  },
  {
   "cell_type": "markdown",
   "metadata": {
    "id": "sZQ1UZNfQCWX"
   },
   "source": [
    "#### **2.1.1** <font color=red> [3 marks] </font><br>\n",
    "Create a function to load the images."
   ]
  },
  {
   "cell_type": "code",
   "execution_count": 43,
   "metadata": {
    "id": "y6klNk9rcAtr"
   },
   "outputs": [],
   "source": [
    "# Create a function to load the raw images\n",
    "def load_images(directory, img_size=(96,96)):\n",
    "  images = []\n",
    "  labels = []\n",
    "\n",
    "  for class_name in os.listdir(directory):\n",
    "    class_path = os.path.join(directory, class_name)\n",
    "    if os.path.isdir(class_path):\n",
    "      for img_name in os.listdir(class_path):\n",
    "        img_path = os.path.join(class_path, img_name)\n",
    "        try:\n",
    "\n",
    "          img = Image.open(img_path).convert('RGB')\n",
    "          img = img.resize(img_size)\n",
    "          images.append(np.array(img))\n",
    "          labels.append(class_name)\n",
    "        except:\n",
    "          continue\n",
    "  return np.array(images), np.array(labels)"
   ]
  },
  {
   "cell_type": "markdown",
   "metadata": {
    "id": "J01VQrLhQsxx"
   },
   "source": [
    "#### **2.1.2** <font color=red> [5 marks] </font><br>\n",
    "Load images and labels."
   ]
  },
  {
   "cell_type": "markdown",
   "metadata": {
    "id": "_C9Oo0PTtYLf"
   },
   "source": [
    "Load the images from the dataset directory. Labels of images are present in the subdirectories.\n",
    "\n",
    "Verify if the images and labels are loaded correctly."
   ]
  },
  {
   "cell_type": "code",
   "execution_count": 61,
   "metadata": {
    "id": "Zm2zlZbmamzy"
   },
   "outputs": [
    {
     "name": "stdout",
     "output_type": "stream",
     "text": [
      "loaded 7625 images\n",
      "classes: ['Cardboard' 'Food_Waste' 'Glass' 'Metal' 'Other' 'Paper' 'Plastic']\n"
     ]
    }
   ],
   "source": [
    "# Get the images and their labels\n",
    "images, labels = load_images(data_dir, img_size=(96,96))\n",
    "print(f\"loaded {len(images)} images\")\n",
    "print(f\"classes: {np.unique(labels)}\")"
   ]
  },
  {
   "cell_type": "markdown",
   "metadata": {
    "id": "26Is-EwKuyGf"
   },
   "source": [
    "Perform any operations, if needed, on the images and labels to get them into the desired format."
   ]
  },
  {
   "cell_type": "code",
   "execution_count": 45,
   "metadata": {},
   "outputs": [],
   "source": [
    "images = images.astype('float32') / 255"
   ]
  },
  {
   "cell_type": "markdown",
   "metadata": {
    "id": "I64rs77bkAYk"
   },
   "source": [
    "### **2.2 Data Visualisation** <font color=red> [9 marks] </font><br>"
   ]
  },
  {
   "cell_type": "markdown",
   "metadata": {
    "id": "jCAepbyAQdI2"
   },
   "source": [
    "#### **2.2.1** <font color=red> [3 marks] </font><br>\n",
    "Create a bar plot to display the class distribution"
   ]
  },
  {
   "cell_type": "code",
   "execution_count": 46,
   "metadata": {
    "id": "Gm5LuWSFqTac"
   },
   "outputs": [
    {
     "data": {
      "image/png": "[encoded data removed]",
      "text/plain": [
       "<Figure size 1000x800 with 1 Axes>"
      ]
     },
     "metadata": {},
     "output_type": "display_data"
    }
   ],
   "source": [
    "# Visualise Data Distribution\n",
    "plt.figure(figsize=(10,8))\n",
    "unique_lables, counts = np.unique(labels, return_counts=True)\n",
    "plt.bar(unique_lables, counts, color='black', edgecolor='r')\n",
    "plt.title(\"Distribution of Waste Classes\", fontsize=14)\n",
    "plt.xlabel(\"Waste Classes\", fontsize=12)\n",
    "plt.ylabel(\"Number of images\", fontsize=12)\n",
    "plt.xticks(rotation=45)\n",
    "plt.tight_layout()\n",
    "plt.show()"
   ]
  },
  {
   "cell_type": "markdown",
   "metadata": {
    "id": "zNWsPfTzRh7x"
   },
   "source": [
    "#### **2.2.2** <font color=red> [3 marks] </font><br>\n",
    "Visualise some sample images"
   ]
  },
  {
   "cell_type": "code",
   "execution_count": null,
   "metadata": {
    "id": "37yXZzfLyOWt"
   },
   "outputs": [],
   "source": [
    "# Visualise Sample Images (across different labels)\n",
    "fig, axes = plt.subplots(4, 2, figsize=(12,8))\n",
    "axes = axes.ravel()\n",
    "for i, class_name in enumerate(unique_lables[:len(axes)]):\n",
    "  class_indices = np.where(labels == class_name)[0]\n",
    "  if len(class_indices) == 0:\n",
    "    continue\n",
    "  sample_idx = class_indices[0]\n",
    "\n",
    "  axes[i].imshow(images[sample_idx])\n",
    "  axes[i].set_title(f\"{class_name}\")\n",
    "  axes[i].axis('off')\n",
    "\n",
    "plt.tight_layout()\n",
    "plt.show()\n"
   ]
  },
  {
   "cell_type": "markdown",
   "metadata": {
    "id": "IrxdFzNigaYG"
   },
   "source": [
    "#### **2.2.3** <font color=red> [3 marks] </font><br>\n",
    "Based on the smallest and largest image dimensions, resize the images."
   ]
  },
  {
   "cell_type": "code",
   "execution_count": 62,
   "metadata": {
    "id": "EyVvjNXqgIGe"
   },
   "outputs": [
    {
     "name": "stdout",
     "output_type": "stream",
     "text": [
      "All images are resized to (96,96,3)\n",
      "Image Shape: (96, 96, 3)\n"
     ]
    }
   ],
   "source": [
    "# Find the smallest and largest image dimensions from the data set\n",
    "print(\"All images are resized to (96,96,3)\")\n",
    "print(f\"Image Shape: {images[0].shape}\")"
   ]
  },
  {
   "cell_type": "code",
   "execution_count": 63,
   "metadata": {
    "id": "Fz7EutUrgKFZ"
   },
   "outputs": [
    {
     "name": "stdout",
     "output_type": "stream",
     "text": [
      "All images are resized to (96,96,3)\n"
     ]
    }
   ],
   "source": [
    "# Resize the image dimensions\n",
    "print(\"All images are resized to (96,96,3)\")\n"
   ]
  },
  {
   "cell_type": "markdown",
   "metadata": {
    "id": "lCB8uOckR5li"
   },
   "source": [
    "### **2.3 Encoding the classes** <font color=red> [3 marks] </font><br>"
   ]
  },
  {
   "cell_type": "markdown",
   "metadata": {
    "id": "ZdC4dpTWt9eo"
   },
   "source": [
    "There are seven classes present in the data.\n",
    "\n",
    "We have extracted the images and their labels, and visualised their distribution. Now, we need to perform encoding on the labels. Encode the labels suitably."
   ]
  },
  {
   "cell_type": "markdown",
   "metadata": {
    "id": "_Nwd0Ztvkf7K"
   },
   "source": [
    "####**2.3.1** <font color=red> [3 marks] </font><br>\n",
    "Encode the target class labels."
   ]
  },
  {
   "cell_type": "code",
   "execution_count": 64,
   "metadata": {
    "id": "qkyXDQN-660s"
   },
   "outputs": [
    {
     "name": "stdout",
     "output_type": "stream",
     "text": [
      "Number of Classes: 7\n",
      "Label Mapping: {'Cardboard': 0, 'Food_Waste': 1, 'Glass': 2, 'Metal': 3, 'Other': 4, 'Paper': 5, 'Plastic': 6}\n"
     ]
    }
   ],
   "source": [
    "# Encode the labels suitably\n",
    "from sklearn.preprocessing import LabelEncoder\n",
    "\n",
    "label_encoder = LabelEncoder()\n",
    "encoded_labels = label_encoder.fit_transform(labels)\n",
    "\n",
    "num_classes = len(label_encoder.classes_)\n",
    "y_cat = tf.keras.utils.to_categorical(encoded_labels, num_classes)\n",
    "\n",
    "label_mapping = {str(label): idx for idx, label in enumerate(label_encoder.classes_)}\n",
    "\n",
    "print(f\"Number of Classes: {num_classes}\")\n",
    "print(f\"Label Mapping: {label_mapping}\")\n",
    "\n"
   ]
  },
  {
   "cell_type": "markdown",
   "metadata": {
    "id": "SNBM4hsuSaoj"
   },
   "source": [
    "### **2.4 Data Splitting** <font color=red> [5 marks] </font><br>"
   ]
  },
  {
   "cell_type": "markdown",
   "metadata": {
    "id": "m0xw-Qlh29cZ"
   },
   "source": [
    "#### **2.4.1** <font color=red> [5 marks] </font><br>\n",
    "Split the dataset into training and validation sets"
   ]
  },
  {
   "cell_type": "code",
   "execution_count": 65,
   "metadata": {
    "id": "TErpx_JOkwjO"
   },
   "outputs": [
    {
     "name": "stdout",
     "output_type": "stream",
     "text": [
      "Training data size: 6100\n",
      "Test data size: 1525\n"
     ]
    }
   ],
   "source": [
    "# Assign specified parts of the dataset to train and validation sets\n",
    "from sklearn.model_selection import train_test_split\n",
    "X_train, X_test, y_train, y_test = train_test_split(images, y_cat, test_size=0.2, random_state=42, stratify=encoded_labels)\n",
    "print(f\"Training data size: {len(X_train)}\")\n",
    "print(f\"Test data size: {len(X_test)}\")"
   ]
  },
  {
   "cell_type": "code",
   "execution_count": 66,
   "metadata": {},
   "outputs": [
    {
     "name": "stdout",
     "output_type": "stream",
     "text": [
      "class_weights:  {0: 2.017195767195767, 1: 1.0892857142857142, 2: 1.4523809523809523, 3: 1.0892857142857142, 4: 1.0785007072135786, 5: 1.0575589459084604, 6: 0.47463429816370994}\n"
     ]
    }
   ],
   "source": [
    "#class weight for imabalamce\n",
    "from sklearn.utils.class_weight import compute_class_weight\n",
    "class_weight = compute_class_weight(\n",
    "    'balanced',\n",
    "    classes=np.unique(encoded_labels),\n",
    "    y=encoded_labels\n",
    ")\n",
    "class_weight = dict(enumerate(class_weight))\n",
    "print(\"class_weights: \", class_weight)"
   ]
  },
  {
   "cell_type": "markdown",
   "metadata": {
    "id": "mILXPeY-X-zP"
   },
   "source": [
    "## **3. Model Building and Evaluation** <font color=red> [20 marks] </font><br>"
   ]
  },
  {
   "cell_type": "markdown",
   "metadata": {
    "id": "4E0afHwy5M_i"
   },
   "source": [
    "### **3.1 Model building and training** <font color=red> [15 marks] </font><br>"
   ]
  },
  {
   "cell_type": "markdown",
   "metadata": {
    "id": "jsu8K3tL5a5Q"
   },
   "source": [
    "#### **3.1.1** <font color=red> [10 marks] </font><br>\n",
    "Build and compile the model. Use 3 convolutional layers. Add suitable normalisation, dropout, and fully connected layers to the model."
   ]
  },
  {
   "cell_type": "markdown",
   "metadata": {
    "id": "awW9V2lmMK_d"
   },
   "source": [
    "Test out different configurations and report the results in conclusions."
   ]
  },
  {
   "cell_type": "code",
   "execution_count": 68,
   "metadata": {
    "id": "oD7-2EXdz_Cl"
   },
   "outputs": [],
   "source": [
    "# Build and compile the model\n",
    "from tensorflow.keras.models import Sequential\n",
    "from tensorflow.keras.layers import Conv2D, MaxPooling2D, Dense, Dropout, BatchNormalization, GlobalAveragePooling2D\n",
    "\n",
    "model = Sequential([\n",
    "    Conv2D(64, (3, 3), activation='relu', padding='same', input_shape=(96, 96, 3)),\n",
    "    BatchNormalization(),\n",
    "    Conv2D(64, (3, 3), activation='relu', padding='same'),\n",
    "    BatchNormalization(),\n",
    "    MaxPooling2D((2, 2)),\n",
    "    Dropout(0.25),\n",
    "\n",
    "    Conv2D(128, (3, 3), activation='relu', padding='same'),\n",
    "    BatchNormalization(),\n",
    "    Conv2D(128, (3, 3), activation='relu', padding='same'),\n",
    "    BatchNormalization(),\n",
    "    MaxPooling2D((2, 2)),\n",
    "    Dropout(0.25),\n",
    "\n",
    "    Conv2D(256, (3, 3), activation='relu', padding='same'),\n",
    "    BatchNormalization(),\n",
    "    MaxPooling2D((2, 2)),\n",
    "    Dropout(0.25),\n",
    "\n",
    "    GlobalAveragePooling2D(),\n",
    "    Dense(256, activation='relu'),\n",
    "    Dropout(0.5),\n",
    "    Dense(num_classes, activation='softmax')\n",
    "])"
   ]
  },
  {
   "cell_type": "code",
   "execution_count": 70,
   "metadata": {},
   "outputs": [
    {
     "name": "stdout",
     "output_type": "stream",
     "text": [
      "Model: \"sequential_6\"\n",
      "_________________________________________________________________\n",
      " Layer (type)                Output Shape              Param #   \n",
      "=================================================================\n",
      " conv2d_20 (Conv2D)          (None, 96, 96, 64)        1792      \n",
      "                                                                 \n",
      " batch_normalization_25 (Bat  (None, 96, 96, 64)       256       \n",
      " chNormalization)                                                \n",
      "                                                                 \n",
      " conv2d_21 (Conv2D)          (None, 96, 96, 64)        36928     \n"
     ]
    },
    {
     "name": "stdout",
     "output_type": "stream",
     "text": [
      "                                                                 \n",
      " batch_normalization_26 (Bat  (None, 96, 96, 64)       256       \n",
      " chNormalization)                                                \n",
      "                                                                 \n",
      " max_pooling2d_18 (MaxPoolin  (None, 48, 48, 64)       0         \n",
      " g2D)                                                            \n",
      "                                                                 \n",
      " dropout_24 (Dropout)        (None, 48, 48, 64)        0         \n",
      "                                                                 \n",
      " conv2d_22 (Conv2D)          (None, 48, 48, 128)       73856     \n",
      "                                                                 \n",
      " batch_normalization_27 (Bat  (None, 48, 48, 128)      512       \n",
      " chNormalization)                                                \n",
      "                                                                 \n",
      " conv2d_23 (Conv2D)          (None, 48, 48, 128)       147584    \n",
      "                                                                 \n",
      " batch_normalization_28 (Bat  (None, 48, 48, 128)      512       \n",
      " chNormalization)                                                \n",
      "                                                                 \n",
      " max_pooling2d_19 (MaxPoolin  (None, 24, 24, 128)      0         \n",
      " g2D)                                                            \n",
      "                                                                 \n",
      " dropout_25 (Dropout)        (None, 24, 24, 128)       0         \n",
      "                                                                 \n",
      " conv2d_24 (Conv2D)          (None, 24, 24, 256)       295168    \n",
      "                                                                 \n",
      " batch_normalization_29 (Bat  (None, 24, 24, 256)      1024      \n",
      " chNormalization)                                                \n",
      "                                                                 \n",
      " max_pooling2d_20 (MaxPoolin  (None, 12, 12, 256)      0         \n",
      " g2D)                                                            \n",
      "                                                                 \n",
      " dropout_26 (Dropout)        (None, 12, 12, 256)       0         \n",
      "                                                                 \n",
      " global_average_pooling2d_1   (None, 256)              0         \n",
      " (GlobalAveragePooling2D)                                        \n",
      "                                                                 \n",
      " dense_12 (Dense)            (None, 256)               65792     \n",
      "                                                                 \n",
      " dropout_27 (Dropout)        (None, 256)               0         \n",
      "                                                                 \n",
      " dense_13 (Dense)            (None, 7)                 1799      \n",
      "                                                                 \n",
      "=================================================================\n",
      "Total params: 625,479\n",
      "Trainable params: 624,199\n",
      "Non-trainable params: 1,280\n",
      "_________________________________________________________________\n"
     ]
    }
   ],
   "source": [
    "model.compile(\n",
    "    optimizer=\"adam\",\n",
    "    loss=\"categorical_crossentropy\",\n",
    "    metrics=[\"accuracy\"]\n",
    ")\n",
    "model.summary()"
   ]
  },
  {
   "cell_type": "markdown",
   "metadata": {
    "id": "7t4duT1wX5wS"
   },
   "source": [
    "#### **3.1.2** <font color=red> [5 marks] </font><br>\n",
    "Train the model."
   ]
  },
  {
   "cell_type": "markdown",
   "metadata": {
    "id": "gcrEzo51Qj6w"
   },
   "source": [
    "Use appropriate metrics and callbacks as needed."
   ]
  },
  {
   "cell_type": "code",
   "execution_count": 72,
   "metadata": {},
   "outputs": [],
   "source": [
    "from tensorflow.keras.callbacks import ReduceLROnPlateau, EarlyStopping\n",
    "callbacks = [\n",
    "    ReduceLROnPlateau(\n",
    "        monitor='val_loss',\n",
    "        factor=0.5,\n",
    "        patience=3,\n",
    "        verbose=1\n",
    "    ),\n",
    "    EarlyStopping(\n",
    "        monitor='val_loss',\n",
    "        patience=7,\n",
    "        restore_best_weights=True\n",
    "    )\n",
    "]"
   ]
  },
  {
   "cell_type": "code",
   "execution_count": 73,
   "metadata": {
    "id": "M7Ut0BicH_I8"
   },
   "outputs": [
    {
     "name": "stdout",
     "output_type": "stream",
     "text": [
      "Epoch 1/10\n",
      "191/191 [==============================] - 1471s 8s/step - loss: 1.8282 - accuracy: 0.2728 - val_loss: 1.7859 - val_accuracy: 0.3515 - lr: 0.0010\n",
      "Epoch 2/10\n",
      "191/191 [==============================] - 1349s 7s/step - loss: 1.6322 - accuracy: 0.3620 - val_loss: 1.7342 - val_accuracy: 0.3639 - lr: 0.0010\n",
      "Epoch 3/10\n",
      "191/191 [==============================] - 1158s 6s/step - loss: 1.5543 - accuracy: 0.3949 - val_loss: 5.2714 - val_accuracy: 0.1167 - lr: 0.0010\n",
      "Epoch 4/10\n",
      "191/191 [==============================] - 2656s 14s/step - loss: 1.5076 - accuracy: 0.4256 - val_loss: 2.1426 - val_accuracy: 0.2925 - lr: 0.0010\n",
      "Epoch 5/10\n",
      "191/191 [==============================] - ETA: 0s - loss: 1.4611 - accuracy: 0.4364\n",
      "Epoch 5: ReduceLROnPlateau reducing learning rate to 0.0005000000237487257.\n",
      "191/191 [==============================] - 1250s 7s/step - loss: 1.4611 - accuracy: 0.4364 - val_loss: 1.9924 - val_accuracy: 0.3134 - lr: 0.0010\n",
      "Epoch 6/10\n",
      "191/191 [==============================] - 1224s 6s/step - loss: 1.3502 - accuracy: 0.4715 - val_loss: 1.5580 - val_accuracy: 0.4525 - lr: 5.0000e-04\n",
      "Epoch 7/10\n",
      "191/191 [==============================] - 1199s 6s/step - loss: 1.2924 - accuracy: 0.5028 - val_loss: 1.5808 - val_accuracy: 0.4603 - lr: 5.0000e-04\n",
      "Epoch 8/10\n",
      "191/191 [==============================] - 1289s 7s/step - loss: 1.2504 - accuracy: 0.5195 - val_loss: 3.2237 - val_accuracy: 0.2833 - lr: 5.0000e-04\n",
      "Epoch 9/10\n",
      "191/191 [==============================] - ETA: 0s - loss: 1.2200 - accuracy: 0.5275\n",
      "Epoch 9: ReduceLROnPlateau reducing learning rate to 0.0002500000118743628.\n",
      "191/191 [==============================] - 1356s 7s/step - loss: 1.2200 - accuracy: 0.5275 - val_loss: 1.6411 - val_accuracy: 0.4544 - lr: 5.0000e-04\n",
      "Epoch 10/10\n",
      "191/191 [==============================] - 1122s 6s/step - loss: 1.1155 - accuracy: 0.5707 - val_loss: 1.4196 - val_accuracy: 0.4951 - lr: 2.5000e-04\n"
     ]
    }
   ],
   "source": [
    "# Training\n",
    "hist=model.fit(\n",
    "    X_train, y_train,\n",
    "    batch_size=32,\n",
    "    epochs=10,\n",
    "    validation_data=(X_test, y_test),\n",
    "    verbose=1,\n",
    "    class_weight=class_weight,\n",
    "    callbacks=callbacks\n",
    ")"
   ]
  },
  {
   "cell_type": "markdown",
   "metadata": {
    "id": "YWT-bIj9YVzh"
   },
   "source": [
    "### **3.2 Model Testing and Evaluation** <font color=red> [5 marks] </font><br>"
   ]
  },
  {
   "cell_type": "markdown",
   "metadata": {
    "id": "XjhU3i5v59d6"
   },
   "source": [
    "#### **3.2.1** <font color=red> [5 marks] </font><br>\n",
    "Evaluate the model on test dataset. Derive appropriate metrics."
   ]
  },
  {
   "cell_type": "code",
   "execution_count": 74,
   "metadata": {
    "id": "d_MtfUM_4y7j"
   },
   "outputs": [
    {
     "name": "stdout",
     "output_type": "stream",
     "text": [
      "Validation Accuracy: 0.4951\n",
      "Validation Loss: 1.4196\n"
     ]
    }
   ],
   "source": [
    "# Evaluate on the test set; display suitable metrics\n",
    "val_loss, val_accuracy = model.evaluate(X_test, y_test, verbose=0)\n",
    "print(f\"Validation Accuracy: {val_accuracy:.4f}\")\n",
    "print(f\"Validation Loss: {val_loss:.4f}\")\n"
   ]
  },
  {
   "cell_type": "code",
   "execution_count": 75,
   "metadata": {},
   "outputs": [
    {
     "name": "stdout",
     "output_type": "stream",
     "text": [
      "48/48 [==============================] - 106s 2s/step\n"
     ]
    }
   ],
   "source": [
    "y_pred = model.predict(X_test)\n",
    "y_pred_classes = np.argmax(y_pred, axis=1)\n",
    "y_true_classes = np.argmax(y_test, axis=1)"
   ]
  },
  {
   "cell_type": "markdown",
   "metadata": {
    "id": "utro5JdHS0JM"
   },
   "source": [
    "## **4. Data Augmentation** <font color=red> [optional] </font><br>"
   ]
  },
  {
   "cell_type": "markdown",
   "metadata": {
    "id": "1T6QlG4eS4xi"
   },
   "source": [
    "#### **4.1 Create a Data Augmentation Pipeline**"
   ]
  },
  {
   "cell_type": "markdown",
   "metadata": {
    "id": "7AXlfuoa4jQV"
   },
   "source": [
    "##### **4.1.1**\n",
    "Define augmentation steps for the datasets."
   ]
  },
  {
   "cell_type": "code",
   "execution_count": 76,
   "metadata": {
    "id": "vbHCwkX0dq0R"
   },
   "outputs": [],
   "source": [
    "# Define augmentation steps to augment images\n",
    "from tensorflow.keras.preprocessing.image import ImageDataGenerator\n",
    "aug = ImageDataGenerator(\n",
    "    rotation_range=20,\n",
    "    zoom_range=0.15,\n",
    "    width_shift_range=0.1,\n",
    "    height_shift_range=0.1,\n",
    "    horizontal_flip=True,\n",
    "    fill_mode='nearest'\n",
    "    \n",
    ")\n"
   ]
  },
  {
   "cell_type": "code",
   "execution_count": 79,
   "metadata": {},
   "outputs": [
    {
     "name": "stdout",
     "output_type": "stream",
     "text": [
      "\n",
      " Training with data augmentation...\n",
      "Epoch 1/12\n",
      "190/190 [==============================] - 931s 5s/step - loss: 1.1750 - accuracy: 0.5689 - val_loss: 1.1964 - val_accuracy: 0.5698\n",
      "Epoch 2/12\n",
      "190/190 [==============================] - 925s 5s/step - loss: 1.1661 - accuracy: 0.5766 - val_loss: 1.3490 - val_accuracy: 0.5384\n",
      "Epoch 3/12\n",
      "190/190 [==============================] - 1261s 7s/step - loss: 1.1153 - accuracy: 0.5967 - val_loss: 1.1769 - val_accuracy: 0.5974\n",
      "Epoch 4/12\n",
      "190/190 [==============================] - 1383s 7s/step - loss: 1.1135 - accuracy: 0.5916 - val_loss: 1.1829 - val_accuracy: 0.5770\n",
      "Epoch 5/12\n",
      "190/190 [==============================] - 1210s 6s/step - loss: 1.0894 - accuracy: 0.6018 - val_loss: 1.4338 - val_accuracy: 0.5003\n",
      "Epoch 6/12\n",
      "190/190 [==============================] - 1157s 6s/step - loss: 1.0717 - accuracy: 0.6106 - val_loss: 1.4001 - val_accuracy: 0.5108\n",
      "Epoch 7/12\n",
      "190/190 [==============================] - 1310s 7s/step - loss: 1.0423 - accuracy: 0.6241 - val_loss: 1.2447 - val_accuracy: 0.5646\n",
      "Epoch 8/12\n",
      "190/190 [==============================] - 1409s 7s/step - loss: 1.0369 - accuracy: 0.6252 - val_loss: 1.4930 - val_accuracy: 0.5075\n",
      "Epoch 9/12\n",
      "190/190 [==============================] - 1389s 7s/step - loss: 1.0182 - accuracy: 0.6323 - val_loss: 1.2535 - val_accuracy: 0.5961\n",
      "Epoch 10/12\n",
      "190/190 [==============================] - 1325s 7s/step - loss: 0.9910 - accuracy: 0.6450 - val_loss: 1.4444 - val_accuracy: 0.5279\n",
      "Epoch 11/12\n",
      "190/190 [==============================] - 1138s 6s/step - loss: 0.9664 - accuracy: 0.6505 - val_loss: 1.2178 - val_accuracy: 0.5934\n",
      "Epoch 12/12\n",
      "190/190 [==============================] - 979s 5s/step - loss: 0.9540 - accuracy: 0.6684 - val_loss: 1.5096 - val_accuracy: 0.5508\n"
     ]
    }
   ],
   "source": [
    "print(\"\\n Training with data augmentation...\")\n",
    "hist_aug = model.fit(\n",
    "    aug.flow(X_train, y_train, batch_size=32),\n",
    "    steps_per_epoch=len(X_train) // 32,\n",
    "    epochs=12,\n",
    "    validation_data=(X_test, y_test),\n",
    "    verbose=1\n",
    ")"
   ]
  },
  {
   "cell_type": "code",
   "execution_count": 80,
   "metadata": {},
   "outputs": [
    {
     "name": "stdout",
     "output_type": "stream",
     "text": [
      "\n",
      "Final Validation Accuracy: 0.5508\n"
     ]
    }
   ],
   "source": [
    "final_loss, final_accuracy = model.evaluate(X_test, y_test, verbose=0)\n",
    "print(f\"\\nFinal Validation Accuracy: {final_accuracy:.4f}\")"
   ]
  },
  {
   "cell_type": "markdown",
   "metadata": {
    "id": "07i11vgMEmM2"
   },
   "source": [
    "Augment and resample the images.\n",
    "In case of class imbalance, you can also perform adequate undersampling on the majority class and augment those images to ensure consistency in the input datasets for both classes."
   ]
  },
  {
   "cell_type": "markdown",
   "metadata": {
    "id": "chvmgE2r4xPZ"
   },
   "source": [
    "Augment the images."
   ]
  },
  {
   "cell_type": "code",
   "execution_count": null,
   "metadata": {
    "id": "6-JBheeYFS8d"
   },
   "outputs": [],
   "source": [
    "# Create a function to augment the images\n",
    "\n",
    "\n"
   ]
  },
  {
   "cell_type": "code",
   "execution_count": null,
   "metadata": {
    "id": "Ddy1y1nPIlvM"
   },
   "outputs": [],
   "source": [
    "# Create the augmented training dataset\n",
    "\n"
   ]
  },
  {
   "cell_type": "markdown",
   "metadata": {
    "id": "bZYekkw9TCvP"
   },
   "source": [
    "##### **4.1.2**\n",
    "\n",
    "Train the model on the new augmented dataset."
   ]
  },
  {
   "cell_type": "code",
   "execution_count": null,
   "metadata": {
    "id": "tBcRbt57FEct"
   },
   "outputs": [],
   "source": [
    "# Train the model using augmented images\n",
    "\n"
   ]
  },
  {
   "cell_type": "markdown",
   "metadata": {
    "id": "xFPuXAvHkJVz"
   },
   "source": [
    "## **5. Conclusions** <font color = red> [5 marks]</font>"
   ]
  },
  {
   "cell_type": "markdown",
   "metadata": {
    "id": "33tWCHjpO5hH"
   },
   "source": [
    "#### **5.1 Conclude with outcomes and insights gained** <font color =red> [5 marks] </font>"
   ]
  },
  {
   "cell_type": "code",
   "execution_count": 81,
   "metadata": {},
   "outputs": [
    {
     "name": "stdout",
     "output_type": "stream",
     "text": [
      "\n",
      "=== CONCLUSIONS ===\n",
      "1. Data Findings:\n",
      "   - Total images processed: 7625\n",
      "   - Number of classes: 7\n",
      "   - Classes: ['Cardboard', 'Food_Waste', 'Glass', 'Metal', 'Other', 'Paper', 'Plastic']\n",
      "\n",
      "2. Model Performance:\n",
      "   - Final validation accuracy: 0.5508\n",
      "   - Model successfully classifies waste into 7 categories\n",
      "   - CNN with 3 conv layers + batch norm + dropout works well\n",
      "\n",
      "3. Key Insights:\n",
      "   - Image preprocessing and normalization improved model performance\n",
      "   - Data augmentation helped reduce overfitting\n",
      "   - Batch normalization and dropout layers improved generalization\n",
      "   - The model can effectively segregate waste for recycling purposes\n"
     ]
    }
   ],
   "source": [
    "print(\"\\n=== CONCLUSIONS ===\")\n",
    "print(\"1. Data Findings:\")\n",
    "print(f\"   - Total images processed: {len(images)}\")\n",
    "print(f\"   - Number of classes: {num_classes}\")\n",
    "print(f\"   - Classes: {list(label_encoder.classes_)}\")\n",
    "\n",
    "print(\"\\n2. Model Performance:\")\n",
    "print(f\"   - Final validation accuracy: {final_accuracy:.4f}\")\n",
    "print(f\"   - Model successfully classifies waste into 7 categories\")\n",
    "print(f\"   - CNN with 3 conv layers + batch norm + dropout works well\")\n",
    "\n",
    "print(\"\\n3. Key Insights:\")\n",
    "print(\"   - Image preprocessing and normalization improved model performance\")\n",
    "print(\"   - Data augmentation helped reduce overfitting\")\n",
    "print(\"   - Batch normalization and dropout layers improved generalization\")\n",
    "print(\"   - The model can effectively segregate waste for recycling purposes\")"
   ]
  },
  {
   "cell_type": "markdown",
   "metadata": {
    "id": "a3e1TLo2kWi0"
   },
   "source": [
    "* Report your findings about the data\n",
    "* Report model training results"
   ]
  }
 ],
 "metadata": {
  "accelerator": "GPU",
  "colab": {
   "gpuType": "T4",
   "provenance": [
    {
     "file_id": "1KW2JSuqBLb3DdmqZSAHtN2K0gX8C2HcV",
     "timestamp": 1740722968634
    },
    {
     "file_id": "1XXsgvgvRpr1OqI_K70kBWgfsI9bByK3r",
     "timestamp": 1738303842187
    }
   ],
   "toc_visible": true
  },
  "kernelspec": {
   "display_name": "Python 3",
   "name": "python3"
  },
  "language_info": {
   "codemirror_mode": {
    "name": "ipython",
    "version": 3
   },
   "file_extension": ".py",
   "mimetype": "text/x-python",
   "name": "python",
   "nbconvert_exporter": "python",
   "pygments_lexer": "ipython3",
   "version": "3.10.1"
  }
 },
 "nbformat": 4,
 "nbformat_minor": 0
}
